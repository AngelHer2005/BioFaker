{
 "cells": [
  {
   "cell_type": "markdown",
   "id": "ad0214d7",
   "metadata": {},
   "source": [
    "# Generación y Clasificación de Secuencias Genéticas Sintéticas\n",
    "\n",
    "Este notebook explica paso a paso cómo se genera un dataset sintético de secuencias genéticas, se entrena un clasificador de riesgo y se utiliza un modelo generativo LSTM para crear nuevas secuencias, todo con Python y librerías de IA."
   ]
  },
  {
   "cell_type": "markdown",
   "id": "6ac65ca6",
   "metadata": {},
   "source": [
    "## 1. Importación de Librerías\n",
    "\n",
    "Se importan las librerías necesarias para la generación de datos, modelado y clasificación."
   ]
  },
  {
   "cell_type": "code",
   "execution_count": null,
   "id": "9c4de9e2",
   "metadata": {},
   "outputs": [],
   "source": [
    "import numpy as np\n",
    "import random\n",
    "from faker import Faker\n",
    "from tensorflow.keras.models import Sequential\n",
    "from tensorflow.keras.layers import LSTM, Dense, Embedding\n",
    "from tensorflow.keras.preprocessing.sequence import pad_sequences\n",
    "from tensorflow.keras.utils import to_categorical\n",
    "from sklearn.ensemble import RandomForestClassifier\n",
    "from sklearn.model_selection import train_test_split\n",
    "\n",
    "fake = Faker()"
   ]
  },
  {
   "cell_type": "markdown",
   "id": "41b188cf",
   "metadata": {},
   "source": [
    "## 2. Generación de Datos Sintéticos\n",
    "\n",
    "Se crean funciones para generar secuencias genéticas aleatorias y asignar un nivel de riesgo. Luego, se construye un dataset sintético."
   ]
  },
  {
   "cell_type": "code",
   "execution_count": null,
   "id": "337f00c7",
   "metadata": {},
   "outputs": [],
   "source": [
    "def generar_secuencia_genetica(longitud=8):\n",
    "    return [random.randint(1, 20) for _ in range(longitud)]\n",
    "\n",
    "def riesgo_aleatorio():\n",
    "    return random.choices([0,1,2], weights=[0.6,0.3,0.1])[0]\n",
    "\n",
    "# Dataset sintético\n",
    "X = np.array([generar_secuencia_genetica() for _ in range(800)])\n",
    "y = np.array([riesgo_aleatorio() for _ in range(800)])\n",
    "\n",
    "X_train, X_test, y_train, y_test = train_test_split(X, y, test_size=0.2, random_state=42)"
   ]
  },
  {
   "cell_type": "markdown",
   "id": "d32b4212",
   "metadata": {},
   "source": [
    "## 3. Entrenamiento del Clasificador RandomForest\n",
    "\n",
    "Se entrena un clasificador RandomForest para predecir el nivel de riesgo de una secuencia genética."
   ]
  },
  {
   "cell_type": "code",
   "execution_count": null,
   "id": "086fc96d",
   "metadata": {},
   "outputs": [],
   "source": [
    "clf = RandomForestClassifier(n_estimators=50, random_state=42)\n",
    "clf.fit(X_train, y_train)\n",
    "\n",
    "print(f\"RandomForest accuracy test: {clf.score(X_test, y_test):.2f}\")"
   ]
  },
  {
   "cell_type": "markdown",
   "id": "2a02bcc4",
   "metadata": {},
   "source": [
    "## 4. Preparación y Entrenamiento del Modelo LSTM\n",
    "\n",
    "Se prepara el dataset para el modelo generativo LSTM, que aprenderá a predecir la siguiente base genética en una secuencia."
   ]
  },
  {
   "cell_type": "code",
   "execution_count": null,
   "id": "f7b5b397",
   "metadata": {},
   "outputs": [],
   "source": [
    "vocab_size = 21\n",
    "max_len = 8\n",
    "embed_dim = 12\n",
    "\n",
    "# Preparar secuencias para modelo generativo\n",
    "sequences = []\n",
    "next_bases = []\n",
    "for seq in X:\n",
    "    for i in range(1, len(seq)):\n",
    "        sequences.append(seq[:i])\n",
    "        next_bases.append(seq[i])\n",
    "\n",
    "sequences = pad_sequences(sequences, maxlen=max_len, padding='pre')\n",
    "next_bases = to_categorical(next_bases, num_classes=vocab_size)\n",
    "\n",
    "model = Sequential([\n",
    "    Embedding(vocab_size, embed_dim, input_length=max_len),\n",
    "    LSTM(64),\n",
    "    Dense(vocab_size, activation='softmax')\n",
    "])\n",
    "model.compile(loss='categorical_crossentropy', optimizer='adam')\n",
    "\n",
    "model.fit(sequences, next_bases, epochs=5, batch_size=32, verbose=0)"
   ]
  },
  {
   "cell_type": "markdown",
   "id": "fb130059",
   "metadata": {},
   "source": [
    "## 5. Diccionario de Traducción de Bases Genéticas\n",
    "\n",
    "Se define un diccionario para traducir los números de las bases a nombres científicos o ficticios."
   ]
  },
  {
   "cell_type": "code",
   "execution_count": null,
   "id": "371cc36e",
   "metadata": {},
   "outputs": [],
   "source": [
    "base_map = {\n",
    "    1:\"Adenina\",2:\"Citosina\",3:\"Guanina\",4:\"Timina\",5:\"Uracilo\",\n",
    "    6:\"Elemento X1\",7:\"Elemento X2\",8:\"Elemento X3\",9:\"Elemento X4\",10:\"Elemento X5\",\n",
    "    11:\"Proteína A\",12:\"Proteína B\",13:\"Enzima C\",14:\"Enzima D\",\n",
    "    15:\"Mutación Alta\",16:\"Mutación Baja\",17:\"Secuencia Críptica\",\n",
    "    18:\"Secuencia Activa\",19:\"Elemento Regulador\",20:\"Elemento Silenciador\"\n",
    "}"
   ]
  },
  {
   "cell_type": "markdown",
   "id": "70fd457b",
   "metadata": {},
   "source": [
    "## 6. Funciones de Generación y Traducción de Secuencias\n",
    "\n",
    "Se implementan funciones para generar nuevas secuencias con el modelo LSTM y traducirlas a texto legible."
   ]
  },
  {
   "cell_type": "code",
   "execution_count": null,
   "id": "4847822b",
   "metadata": {},
   "outputs": [],
   "source": [
    "def generar_secuencia(model, seed_seq, longitud=max_len):\n",
    "    result = seed_seq.copy()\n",
    "    for _ in range(longitud - len(seed_seq)):\n",
    "        padded = pad_sequences([result], maxlen=max_len, padding='pre')\n",
    "        pred = model.predict(padded, verbose=0)[0]\n",
    "        next_base = np.random.choice(range(vocab_size), p=pred)\n",
    "        if next_base == 0:  # padding\n",
    "            break\n",
    "        result.append(next_base)\n",
    "    return result\n",
    "\n",
    "def secuencia_a_texto(seq):\n",
    "    return \", \".join(base_map.get(b, \"?\") for b in seq)"
   ]
  },
  {
   "cell_type": "markdown",
   "id": "02a1bff0",
   "metadata": {},
   "source": [
    "## 7. Clase BioFakerIA\n",
    "\n",
    "Clase que genera especies ficticias con nombre, hábitat, descripción, genoma sintético y nivel de riesgo."
   ]
  },
  {
   "cell_type": "code",
   "execution_count": null,
   "id": "c69f34aa",
   "metadata": {},
   "outputs": [],
   "source": [
    "class BioFakerIA:\n",
    "    def __init__(self):\n",
    "        self.fake = Faker()\n",
    "\n",
    "    def species_name(self):\n",
    "        return f\"{self.fake.last_name()} {self.fake.word().capitalize()}\"\n",
    "\n",
    "    def habitat(self):\n",
    "        return self.fake.city()\n",
    "\n",
    "    def description(self):\n",
    "        descs = [\n",
    "            \"Especie endémica con adaptaciones únicas.\",\n",
    "            \"Conocida por su rápido crecimiento.\",\n",
    "            \"Posee mecanismos defensivos avanzados.\",\n",
    "            \"Importante en el ecosistema local.\",\n",
    "            \"Presenta una dieta variada y flexible.\"\n",
    "        ]\n",
    "        return random.choice(descs)\n",
    "\n",
    "    def generate(self):\n",
    "        nombre = self.species_name()\n",
    "        habitat = self.habitat()\n",
    "        descripcion = self.description()\n",
    "\n",
    "        seed = generar_secuencia_genetica(3)\n",
    "        secuencia = generar_secuencia(model, seed)\n",
    "        texto_gen = secuencia_a_texto(secuencia)\n",
    "\n",
    "        riesgo = clf.predict([secuencia])[0]\n",
    "        niveles = {0:\"Bajo\",1:\"Medio\",2:\"Alto\"}\n",
    "\n",
    "        bio = f\"🧬 Especie: {nombre}\\n\" \\\n",
    "              f\"🏞️ Hábitat: {habitat}\\n\" \\\n",
    "              f\"📝 Descripción: {descripcion}\\n\" \\\n",
    "              f\"🧬 Genoma sintético: {texto_gen}\\n\" \\\n",
    "              f\"⚠️ Nivel de riesgo para humanos: {niveles[riesgo]}\"\n",
    "        return bio"
   ]
  },
  {
   "cell_type": "markdown",
   "id": "998d1467",
   "metadata": {},
   "source": [
    "## 8. Ejemplo de Generación de Especie Sintética\n",
    "\n",
    "Se crea una instancia de la clase y se genera una especie ficticia."
   ]
  },
  {
   "cell_type": "code",
   "execution_count": null,
   "id": "9d1d6e31",
   "metadata": {},
   "outputs": [],
   "source": [
    "biofaker = BioFakerIA()\n",
    "print(biofaker.generate())"
   ]
  },
  {
   "cell_type": "markdown",
   "id": "9cbbacda",
   "metadata": {},
   "source": [
    "## 9. Interfaz Web con Streamlit\n",
    "\n",
    "Puedes ejecutar la siguiente app para generar especies ficticias desde una interfaz web:\n",
    "\n",
    "```bash\n",
    "streamlit run biofaker_app.py\n",
    "```"
   ]
  }
 ],
 "metadata": {
  "kernelspec": {
   "display_name": "Python 3",
   "language": "python",
   "name": "python3"
  },
  "language_info": {
   "codemirror_mode": {
    "name": "ipython",
    "version": 3
   },
   "file_extension": ".py",
   "mimetype": "text/x-python",
   "name": "python",
   "nbconvert_exporter": "python",
   "pygments_lexer": "ipython3",
   "version": "3.12.6"
  }
 },
 "nbformat": 4,
 "nbformat_minor": 5
}
